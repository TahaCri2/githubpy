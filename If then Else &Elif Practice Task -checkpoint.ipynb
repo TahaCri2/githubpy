{
 "cells": [
  {
   "cell_type": "raw",
   "metadata": {},
   "source": [
    "1) A company decided to give bonus of 5% to employee if his/her year of service is more than 5 years.\n",
    "Ask user for their salary and year of service and print the net bonus amount."
   ]
  },
  {
   "cell_type": "code",
   "execution_count": 25,
   "metadata": {},
   "outputs": [
    {
     "name": "stdout",
     "output_type": "stream",
     "text": [
      "Enter Your Salary:3000\n",
      "Enter Your Service:6\n",
      "your are not eligible\n"
     ]
    }
   ],
   "source": [
    "Bouns=0.05\n",
    "Salary=int(input(\"Enter Your Salary:\"))\n",
    "service=int(input(\"Enter Your Service:\"))\n",
    "Service_Reqvired=5\n",
    "\n",
    "if service>Service_Reqvired:\n",
    "    print(\"your are not eligible\")\n",
    "else:\n",
    "    new_salary=Salary+(Salary*Bouns)\n"
   ]
  },
  {
   "cell_type": "markdown",
   "metadata": {},
   "source": [
    "\n",
    "2) Write a program to check whether a person is eligible for voting or not. (accept age from user) if age is greater than 17 eligible otherwise not eligible"
   ]
  },
  {
   "cell_type": "code",
   "execution_count": 26,
   "metadata": {},
   "outputs": [
    {
     "name": "stdout",
     "output_type": "stream",
     "text": [
      "enter your age:17\n",
      "your are not eligible for voting\n"
     ]
    }
   ],
   "source": [
    "age=int(input(\"enter your age:\"))\n",
    "age_required=17\n",
    "\n",
    "if age>age_required:\n",
    "    print(\"your are eligible for votng\")\n",
    "else:\n",
    "    print(\"your are not eligible for voting\")\n",
    "\n"
   ]
  },
  {
   "cell_type": "markdown",
   "metadata": {},
   "source": [
    "\n",
    "3) Write a program to check whether a number entered by user is even or odd."
   ]
  },
  {
   "cell_type": "code",
   "execution_count": 27,
   "metadata": {},
   "outputs": [
    {
     "name": "stdout",
     "output_type": "stream",
     "text": [
      "enter number:1\n",
      "this is odd number\n"
     ]
    }
   ],
   "source": [
    "number=int(input(\"enter number:\"))\n",
    "if number %2==0:\n",
    "    print(\"this is even number\")\n",
    "else:\n",
    "    print(\"this is odd number\")"
   ]
  },
  {
   "cell_type": "markdown",
   "metadata": {},
   "source": [
    "4) Write a program to check whether a number is divisible by 7 or not.\n",
    "Show Answer"
   ]
  },
  {
   "cell_type": "code",
   "execution_count": 29,
   "metadata": {},
   "outputs": [
    {
     "name": "stdout",
     "output_type": "stream",
     "text": [
      "enter your number:7\n",
      "show answer\n"
     ]
    }
   ],
   "source": [
    "number=int(input(\"enter your number:\"))\n",
    "if number%7==0:\n",
    "    print(\"show answer\")\n",
    "else:\n",
    "    print(\"not\")"
   ]
  },
  {
   "cell_type": "raw",
   "metadata": {},
   "source": [
    "5) Write a program to display \n",
    "\"Hello\" if a number entered by user is a multiple of five , otherwise print \"Bye\"."
   ]
  },
  {
   "cell_type": "code",
   "execution_count": 30,
   "metadata": {},
   "outputs": [
    {
     "name": "stdout",
     "output_type": "stream",
     "text": [
      "enter your number:2\n",
      "Bye\n"
     ]
    }
   ],
   "source": [
    "number=int(input(\"enter your number:\"))\n",
    "if number%5==0:\n",
    "    print(\"Hello\")\n",
    "else:\n",
    "    print(\"Bye\")\n"
   ]
  },
  {
   "cell_type": "raw",
   "metadata": {},
   "source": [
    "7) Write a program to display the last digit of a number.\n"
   ]
  },
  {
   "cell_type": "code",
   "execution_count": 40,
   "metadata": {},
   "outputs": [
    {
     "name": "stdout",
     "output_type": "stream",
     "text": [
      "enter your number:6\n",
      " the last digit of 6\n"
     ]
    }
   ],
   "source": [
    "number=int(input(\"enter your number:\"))\n",
    "last_digit=number%10\n",
    "print(f\" the last digit of {number}\")\n"
   ]
  },
  {
   "cell_type": "raw",
   "metadata": {},
   "source": [
    "Q8. Write a program to check whether the last digit of a number( entered by user ) is \n",
    "divisible by 3 or not."
   ]
  },
  {
   "cell_type": "code",
   "execution_count": 44,
   "metadata": {},
   "outputs": [
    {
     "name": "stdout",
     "output_type": "stream",
     "text": [
      "enter your number:6\n",
      "the last digit of a 6 is divisble by  3\n"
     ]
    }
   ],
   "source": [
    "number=int(input(\"enter your number:\"))\n",
    "last_digit=number%10\n",
    "if last_digit%3==0:\n",
    "    print(f\"the last digit of a {number} is divisble by \",3)\n",
    "else:\n",
    "    print(f\"the last digit of a {number} is not divisble by \",3)"
   ]
  },
  {
   "cell_type": "raw",
   "metadata": {},
   "source": [
    "9) Take values of length and breadth of a rectangle from user and print if it is square or rectangle."
   ]
  },
  {
   "cell_type": "code",
   "execution_count": 45,
   "metadata": {},
   "outputs": [
    {
     "name": "stdout",
     "output_type": "stream",
     "text": [
      "enter the lenght:4\n",
      "enter the breadth:4\n",
      "its is square\n"
     ]
    }
   ],
   "source": [
    "lenght=int(input(\"enter the lenght:\"))\n",
    "breadth=int(input(\"enter the breadth:\"))\n",
    "if lenght==breadth:\n",
    "    print(\"its is square\")\n",
    "else:\n",
    "    print(\"its is rectangle\")"
   ]
  },
  {
   "cell_type": "raw",
   "metadata": {},
   "source": [
    "10) Take two int values from user and print greatest among them."
   ]
  },
  {
   "cell_type": "code",
   "execution_count": 50,
   "metadata": {},
   "outputs": [
    {
     "name": "stdout",
     "output_type": "stream",
     "text": [
      "enter the number:90\n",
      "enter the number two:80\n",
      "this is greatest value:90\n"
     ]
    }
   ],
   "source": [
    "int_one=int(input(\"enter the number:\"))\n",
    "int_two=int(input(\"enter the number two:\"))\n",
    "if int_one>int_two:\n",
    "    print(f\"this is greatest value:{int_one}\")\n",
    "elif int_two>int_one:\n",
    "    print(f\"this is less value{int_two}\")\n"
   ]
  },
  {
   "cell_type": "raw",
   "metadata": {},
   "source": [
    "11) A shop will give discount of 10% if the cost of purchased quantity is more than 1000.\n",
    "Ask user for quantity\n",
    "Suppose, one unit will cost 100.\n",
    "Judge and print total cost for user."
   ]
  },
  {
   "cell_type": "code",
   "execution_count": 3,
   "metadata": {},
   "outputs": [
    {
     "name": "stdout",
     "output_type": "stream",
     "text": [
      "enter the quantity:1000\n",
      "congraulations! you get 10% discount\n"
     ]
    }
   ],
   "source": [
    "cost_per_unit=100\n",
    "quantity=int(input(\"enter the quantity:\"))\n",
    "total_cost=quantity*cost_per_unit\n",
    "if total_cost>quantity:\n",
    "    print(\"congraulations! you get 10% discount\")\n",
    "else:\n",
    "    print(\"thankyou for coming\")\n",
    "             \n",
    "             \n",
    "    \n"
   ]
  },
  {
   "cell_type": "raw",
   "metadata": {},
   "source": [
    "12) A school has following rules for grading system:\n",
    "\n",
    "a. Below 25 - F\n",
    "\n",
    "b. 25 to 45 - E\n",
    "\n",
    "c. 45 to 50 - D\n",
    "\n",
    "d. 50 to 60 - C\n",
    "\n",
    "e. 60 to 80 - B\n",
    "\n",
    "f. Above 80 - A\n",
    "\n",
    "Ask user to enter marks and print the corresponding grade."
   ]
  },
  {
   "cell_type": "code",
   "execution_count": 36,
   "metadata": {},
   "outputs": [
    {
     "name": "stdout",
     "output_type": "stream",
     "text": [
      "enter the marks:70\n",
      "B\n"
     ]
    }
   ],
   "source": [
    "marks=int(input(\"enter the marks:\"))\n",
    "if marks<25:\n",
    "        print(\"F\")\n",
    "elif marks>=25 and marks<=45:\n",
    "        print(\"E\")\n",
    "elif marks>=45 and marks<=50:\n",
    "     print(\"D\")\n",
    "elif marks>=50 and  marks<=60:\n",
    "    print(\"C\")\n",
    "elif marks>=60 and marks<=80:\n",
    "     print(\"B\")\n",
    "elif above>=80:\n",
    "    print(\"A\")"
   ]
  },
  {
   "cell_type": "raw",
   "metadata": {},
   "source": [
    "14)A student will not be allowed to sit in exam if his/her attendence is less than 75%.\n",
    "\n",
    "Take following input from user\n",
    "\n",
    "Number of classes held\n",
    "\n",
    "Number of classes attended.\n",
    "\n",
    "And print\n",
    "\n",
    "percentage of class attended\n",
    "\n",
    "Is student is allowed to sit in exam or not.\n"
   ]
  },
  {
   "cell_type": "code",
   "execution_count": 43,
   "metadata": {},
   "outputs": [
    {
     "name": "stdout",
     "output_type": "stream",
     "text": [
      "enter the class held:87\n",
      "enter the class attendence:90\n",
      "you sit in exam\n"
     ]
    }
   ],
   "source": [
    "num_of_class_held=int(input(\"enter the class held:\"))\n",
    "num_of_class_attended=int(input(\"enter the class attendence:\"))\n",
    "class_per=0.75\n",
    "if num_of_class_attended>class_per:\n",
    "    print(\"you sit in exam\")\n",
    "else:\n",
    "    print(\"you not sit in exam\")\n"
   ]
  },
  {
   "cell_type": "raw",
   "metadata": {},
   "source": [
    "15) Modify the above question to allow student to sit if he/she has medical cause. Ask user if he/she has medical cause or not ( 'Y' or 'N' ) and print accordingly."
   ]
  },
  {
   "cell_type": "code",
   "execution_count": 14,
   "metadata": {},
   "outputs": [
    {
     "name": "stdout",
     "output_type": "stream",
     "text": [
      "Y/N:N\n",
      "not allow\n"
     ]
    }
   ],
   "source": [
    "medical_cause=input(\"Y/N:\")\n",
    "\n",
    "if medical_cause==\"Y\":\n",
    "    print(\"allow\")\n",
    "    \n",
    "elif medical_cause==\"N\":\n",
    "    print(\"not allow\")\n"
   ]
  },
  {
   "cell_type": "raw",
   "metadata": {},
   "source": [
    "16) Write a program to check if a year is leap year or not.\n",
    "\n",
    "If a year is divisible by 4 then it is leap year but if the year is century year like 2000, 1900, 2100 then it must be divisible by 400."
   ]
  },
  {
   "cell_type": "code",
   "execution_count": 16,
   "metadata": {},
   "outputs": [
    {
     "name": "stdout",
     "output_type": "stream",
     "text": [
      "enter the year:2000\n",
      "it is leap year\n"
     ]
    }
   ],
   "source": [
    "year=int(input(\"enter the year:\"))\n",
    "\n",
    "if (year %4==0 and year %100!=0 ) or (year %400==0):\n",
    "    print(\"it is leap year\")\n",
    "else:\n",
    "    print(\"it is not leaop year\")\n"
   ]
  },
  {
   "cell_type": "raw",
   "metadata": {},
   "source": [
    "17) Ask user to enter age, gender ( M or F ), marital status ( Y or N ) and then using following rules print their place of service.\n",
    "\n",
    "if employee is female, then she will work only in urban areas.\n",
    "\n",
    "if employee is a male and age is in between 20 to 40 then he may work in anywhere\n",
    "\n",
    "if employee is male and age is in between 40 t0 60 then he will work in urban areas only.\n",
    "\n",
    "And any other input of age should print \"ERROR\""
   ]
  },
  {
   "cell_type": "code",
   "execution_count": 32,
   "metadata": {},
   "outputs": [
    {
     "name": "stdout",
     "output_type": "stream",
     "text": [
      "enter your age:20\n",
      "enter your gender M/F:M\n",
      "enter your material Y/N:N\n",
      "he may work in anywhere\n"
     ]
    }
   ],
   "source": [
    "age=int(input(\"enter your age:\"))\n",
    "gender=input(\"enter your gender M/F:\")\n",
    "marital_status=input(\"enter your material Y/N:\")\n",
    "\n",
    "if gender==\"F\":\n",
    "    print(\"she will work in urban areas\")\n",
    "elif gender==\"M\" and age==20 or 40:\n",
    "    print(\"he may work in anywhere\")\n",
    "elif gender==\"M\" and age==40 or 60:\n",
    "    print(\"he will work in urban areas\")\n",
    "else:\n",
    "    print(\"ERROR\")\n"
   ]
  },
  {
   "cell_type": "raw",
   "metadata": {},
   "source": [
    "6) Write a program to calculate the electricity bill (accept number of unit from user) according to the following criteria :\n",
    "     Unit                                                     Price  \n",
    "uptp 100 units                                             no charge\n",
    "Next 200 units                                              Rs 5 per unit\n",
    "After 200 units                                             Rs 10 per unit\n",
    "(For example if input unit is 350 than total bill amount is Rs.3500\n",
    "(For example if input unit is 97 than total bill amount is Rs.0\n",
    "(For example if input unit is 150 than total bill amount is Rs.750"
   ]
  },
  {
   "cell_type": "code",
   "execution_count": 34,
   "metadata": {},
   "outputs": [
    {
     "name": "stdout",
     "output_type": "stream",
     "text": [
      "enter the unit:200\n",
      "20000\n"
     ]
    }
   ],
   "source": [
    "number_of_unit=int(input(\"enter the unit:\"))\n",
    "\n",
    "if number_of_unit<100:\n",
    "    print(\"0\")\n",
    "elif number_of_unit>100:\n",
    "    print(number_of_unit*100)\n"
   ]
  },
  {
   "cell_type": "raw",
   "metadata": {},
   "source": [
    "13) Take input of age of 3 people by user and determine oldest and youngest among them."
   ]
  },
  {
   "cell_type": "code",
   "execution_count": 42,
   "metadata": {},
   "outputs": [
    {
     "name": "stdout",
     "output_type": "stream",
     "text": [
      "enter your age:20\n",
      "enter your age:30\n",
      "enter your age:40\n",
      "it is yongest people:20\n",
      "it is oldest people:40\n"
     ]
    }
   ],
   "source": [
    "age_one=int(input(\"enter your age:\"))\n",
    "age_two=int(input(\"enter your age:\"))\n",
    "age_three=int(input(\"enter your age:\"))\n",
    "\n",
    "yongest=min(age_one,age_two,age_three)\n",
    "oldest=max(age_one,age_two,age_three)\n",
    "\n",
    "print(f\"it is yongest people:{yongest}\")\n",
    "print(f\"it is oldest people:{oldest}\")"
   ]
  },
  {
   "cell_type": "code",
   "execution_count": null,
   "metadata": {},
   "outputs": [],
   "source": []
  }
 ],
 "metadata": {
  "kernelspec": {
   "display_name": "Python 3 (ipykernel)",
   "language": "python",
   "name": "python3"
  },
  "language_info": {
   "codemirror_mode": {
    "name": "ipython",
    "version": 3
   },
   "file_extension": ".py",
   "mimetype": "text/x-python",
   "name": "python",
   "nbconvert_exporter": "python",
   "pygments_lexer": "ipython3",
   "version": "3.11.5"
  }
 },
 "nbformat": 4,
 "nbformat_minor": 2
}
