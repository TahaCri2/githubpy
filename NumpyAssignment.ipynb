{
 "cells": [
  {
   "cell_type": "markdown",
   "metadata": {
    "id": "UZXjlass3ARu"
   },
   "source": [
    "\n",
    "# **1. Basic Array Manipulation:**\n"
   ]
  },
  {
   "cell_type": "markdown",
   "metadata": {
    "id": "tDWPQRm23C7o"
   },
   "source": [
    "Create a 1D array with values ranging from 0 to 9.\n"
   ]
  },
  {
   "cell_type": "code",
   "execution_count": 2,
   "metadata": {
    "id": "OvGF66_02Q8H"
   },
   "outputs": [
    {
     "data": {
      "text/plain": [
       "array([0, 1, 2, 3, 4, 5, 6, 7, 8])"
      ]
     },
     "execution_count": 2,
     "metadata": {},
     "output_type": "execute_result"
    }
   ],
   "source": [
    "import numpy as np\n",
    "\n",
    "array=np.arange(9)\n",
    "array"
   ]
  },
  {
   "cell_type": "markdown",
   "metadata": {
    "id": "UYzIzPyB3Ne3"
   },
   "source": [
    "Reshape the array into a 3x3 matrix.\n",
    "\n",
    "Explore Reshape Function"
   ]
  },
  {
   "cell_type": "code",
   "execution_count": 3,
   "metadata": {
    "id": "RLlzDCBc2Q_P"
   },
   "outputs": [
    {
     "data": {
      "text/plain": [
       "array([[0, 1, 2],\n",
       "       [3, 4, 5],\n",
       "       [6, 7, 8]])"
      ]
     },
     "execution_count": 3,
     "metadata": {},
     "output_type": "execute_result"
    }
   ],
   "source": [
    "matrix=array.reshape(3,3)\n",
    "matrix"
   ]
  },
  {
   "cell_type": "markdown",
   "metadata": {
    "id": "KmhRK9Ti3Phn"
   },
   "source": [
    "Access the element at the second row, second column.\n"
   ]
  },
  {
   "cell_type": "code",
   "execution_count": 4,
   "metadata": {
    "id": "Dk_a1D3A3ijN"
   },
   "outputs": [
    {
     "data": {
      "text/plain": [
       "4"
      ]
     },
     "execution_count": 4,
     "metadata": {},
     "output_type": "execute_result"
    }
   ],
   "source": [
    "matrix[1,1]"
   ]
  },
  {
   "cell_type": "markdown",
   "metadata": {
    "id": "NlH7N-fZ36wc"
   },
   "source": [
    "Perform element-wise addition, subtraction, multiplication, and division on two arrays [1, 2, 3] and [4, 5, 6].\n"
   ]
  },
  {
   "cell_type": "code",
   "execution_count": 5,
   "metadata": {
    "id": "PkgNSo1a37kP"
   },
   "outputs": [
    {
     "name": "stdout",
     "output_type": "stream",
     "text": [
      "************************ PERFORM OPERATION IN MATRIXS ***********************************\n",
      "Addtion of two matrix: [5 7 9]\n",
      "Subtraction of two matrix: [-3 -3 -3]\n",
      "Multiplication of two matrix: [ 4 10 18]\n",
      "Division of two matrix: [0.25 0.4  0.5 ]\n"
     ]
    }
   ],
   "source": [
    "A=np.array([1, 2, 3])\n",
    "B=np.array([4, 5, 6])\n",
    "\n",
    "print(\"************************ PERFORM OPERATION IN MATRIXS ***********************************\")\n",
    "\n",
    "print(f\"Addtion of two matrix: {np.add(A,B)}\")\n",
    "print(f\"Subtraction of two matrix: {np.subtract(A,B)}\")\n",
    "print(f\"Multiplication of two matrix: {np.multiply(A,B)}\")\n",
    "print(f\"Division of two matrix: {np.divide(A,B)}\")"
   ]
  },
  {
   "cell_type": "markdown",
   "metadata": {
    "id": "JVt4zxkk8e0P"
   },
   "source": [
    "Find the sum, mean, and standard deviation of the array [1, 2, 3, 4, 5].\n"
   ]
  },
  {
   "cell_type": "code",
   "execution_count": 6,
   "metadata": {
    "id": "mQZxaZ0c8nhh"
   },
   "outputs": [
    {
     "name": "stdout",
     "output_type": "stream",
     "text": [
      "sum of the array: 15\n",
      "Mean of the array: 3.0\n",
      "standard deviation of the array: 1.4142135623730951\n"
     ]
    }
   ],
   "source": [
    "array=np.array([1, 2, 3, 4, 5])\n",
    "\n",
    "print(f\"sum of the array: {np.sum(array)}\")\n",
    "print(f\"Mean of the array: {np.mean(array)}\")\n",
    "print(f\"standard deviation of the array: {np.std(array)}\")"
   ]
  },
  {
   "cell_type": "markdown",
   "metadata": {
    "id": "ji2XvW0Z8nn5"
   },
   "source": [
    "Reshape the array [1, 2, 3, 4, 5, 6] into a 2x3 array.\n",
    "\n",
    "Explore Reshape"
   ]
  },
  {
   "cell_type": "code",
   "execution_count": 7,
   "metadata": {
    "id": "FNbYlzyI8rAx"
   },
   "outputs": [
    {
     "data": {
      "text/plain": [
       "array([[1, 2, 3],\n",
       "       [4, 5, 6]])"
      ]
     },
     "execution_count": 7,
     "metadata": {},
     "output_type": "execute_result"
    }
   ],
   "source": [
    "array=np.array([1, 2, 3, 4, 5, 6])\n",
    "array.reshape(2,3)"
   ]
  },
  {
   "cell_type": "markdown",
   "metadata": {
    "id": "OE-5o0th3SU4"
   },
   "source": [
    "\n",
    "# **2. Indexing and Slicing:**\n"
   ]
  },
  {
   "cell_type": "markdown",
   "metadata": {
    "id": "yqNKWBOl3an3"
   },
   "source": [
    "Create a 5x5 array with random integers.\n"
   ]
  },
  {
   "cell_type": "code",
   "execution_count": 43,
   "metadata": {
    "id": "G-kX4nme2RBn"
   },
   "outputs": [
    {
     "data": {
      "text/plain": [
       "array([[7, 4, 3, 8, 9],\n",
       "       [0, 2, 3, 2, 1],\n",
       "       [0, 1, 2, 4, 5],\n",
       "       [4, 8, 5, 8, 2],\n",
       "       [8, 0, 8, 7, 8]])"
      ]
     },
     "execution_count": 43,
     "metadata": {},
     "output_type": "execute_result"
    }
   ],
   "source": [
    "Random_integers=np.random.randint(0,10,size=[5,5])\n",
    "Random_integers"
   ]
  },
  {
   "cell_type": "markdown",
   "metadata": {
    "id": "LlilKAMF3bMX"
   },
   "source": [
    "Replace all values in the sub-array with a specific value.\n"
   ]
  },
  {
   "cell_type": "code",
   "execution_count": 46,
   "metadata": {
    "id": "gShfqRGm2REI"
   },
   "outputs": [
    {
     "name": "stdout",
     "output_type": "stream",
     "text": [
      "[[7 4 3 8 9]\n",
      " [0 2 2 2 1]\n",
      " [0 1 2 2 5]\n",
      " [4 8 5 8 2]\n",
      " [8 0 8 7 8]]\n"
     ]
    }
   ],
   "source": [
    "Row_Start, Row_End = 1, 3\n",
    "Col_Start, Col_End = 2, 4\n",
    "\n",
    "Random_integers[Row_Start:Row_End, Col_Start:Col_End] = \n",
    "\n",
    "print(Random_integers)"
   ]
  },
  {
   "cell_type": "markdown",
   "metadata": {
    "id": "1kUY7u023gfF"
   },
   "source": [
    "Extract the subarray [[3, 4], [7, 8]] from the array [[1, 2], [3, 4], [5, 6], [7, 8]].\n"
   ]
  },
  {
   "cell_type": "code",
   "execution_count": 10,
   "metadata": {
    "id": "UmgqjBwC3_4V"
   },
   "outputs": [
    {
     "name": "stdout",
     "output_type": "stream",
     "text": [
      "Extract sub array [3 4] [7 8]\n"
     ]
    }
   ],
   "source": [
    "sub_array=np.array([[1, 2], [3, 4], [5, 6], [7, 8]])\n",
    "print(f\"Extract sub array {sub_array[1]} {sub_array[3]}\")"
   ]
  },
  {
   "cell_type": "markdown",
   "metadata": {
    "id": "vPrCHS_O3jK9"
   },
   "source": [
    "\n",
    "# **3. Broadcasting:**"
   ]
  },
  {
   "cell_type": "markdown",
   "metadata": {
    "id": "W3WUM5Cc3phc"
   },
   "source": [
    "Create a 2D array of shape (3, 3) with values from 0 to 2.\n"
   ]
  },
  {
   "cell_type": "code",
   "execution_count": 33,
   "metadata": {
    "id": "PxJrAlFW2RGw"
   },
   "outputs": [
    {
     "data": {
      "text/plain": [
       "array([[1, 0, 2],\n",
       "       [0, 1, 1],\n",
       "       [1, 0, 1]])"
      ]
     },
     "execution_count": 33,
     "metadata": {},
     "output_type": "execute_result"
    }
   ],
   "source": [
    "array_2d=np.random.randint(0,3,size=[3,3])\n",
    "array_2d"
   ]
  },
  {
   "cell_type": "markdown",
   "metadata": {
    "id": "J5XPwN3A3rXG"
   },
   "source": [
    "Add a 1D array of shape (3,) to each row of the 2D array using broadcasting.\n"
   ]
  },
  {
   "cell_type": "code",
   "execution_count": 36,
   "metadata": {
    "id": "k4FM2g_c2RJv"
   },
   "outputs": [
    {
     "name": "stdout",
     "output_type": "stream",
     "text": [
      "Addition of 2D and 1D array:\n",
      " [[1 1 4]\n",
      " [0 2 3]\n",
      " [1 1 3]]\n"
     ]
    }
   ],
   "source": [
    "array_1d=np.array([0,1,2])\n",
    "print(\"Addition of 2D and 1D array:\\n\",array_2d + array_1d)"
   ]
  },
  {
   "cell_type": "code",
   "execution_count": 37,
   "metadata": {},
   "outputs": [
    {
     "data": {
      "text/plain": [
       "(3,)"
      ]
     },
     "execution_count": 37,
     "metadata": {},
     "output_type": "execute_result"
    }
   ],
   "source": [
    "array_1d.shape"
   ]
  },
  {
   "cell_type": "markdown",
   "metadata": {
    "id": "9CbtQS3w4PA3"
   },
   "source": [
    "# **4. Concatenation and Splitting**"
   ]
  },
  {
   "cell_type": "markdown",
   "metadata": {
    "id": "yMg_umVy4ILG"
   },
   "source": [
    "\n",
    "1.   Create two 2D arrays of shape (3, 3) with random integers.\n",
    "2.   Concatenate them horizontally and vertically.\n",
    "3.   Split the concatenated arrays back into the original arrays.\n"
   ]
  },
  {
   "cell_type": "code",
   "execution_count": 17,
   "metadata": {
    "id": "wXiCa2Sn8XHP"
   },
   "outputs": [
    {
     "data": {
      "text/plain": [
       "(array([[8, 1, 4],\n",
       "        [7, 1, 1],\n",
       "        [5, 6, 7]]),\n",
       " array([[ 3,  9,  2],\n",
       "        [ 3, 10,  4],\n",
       "        [ 7,  3,  6]]))"
      ]
     },
     "execution_count": 17,
     "metadata": {},
     "output_type": "execute_result"
    }
   ],
   "source": [
    "a=np.random.randint(1,11,size=[3,3])\n",
    "b=np.random.randint(1,11,size=[3,3])\n",
    "a,b"
   ]
  },
  {
   "cell_type": "code",
   "execution_count": 18,
   "metadata": {},
   "outputs": [
    {
     "name": "stdout",
     "output_type": "stream",
     "text": [
      "Horizontally:\n",
      "[[ 8  1  4  3  9  2]\n",
      " [ 7  1  1  3 10  4]\n",
      " [ 5  6  7  7  3  6]]\n",
      "Vertically:\n",
      "[[ 8  1  4]\n",
      " [ 7  1  1]\n",
      " [ 5  6  7]\n",
      " [ 3  9  2]\n",
      " [ 3 10  4]\n",
      " [ 7  3  6]]\n"
     ]
    }
   ],
   "source": [
    "Concatented_Horizontally = np.hstack((a,b))\n",
    "\n",
    "Concatented_Vertically = np.vstack((a,b))\n",
    "\n",
    "print(\"Horizontally:\")\n",
    "print(Concatented_Horizontally)\n",
    "print(\"Vertically:\")\n",
    "print(Concatented_Vertically)"
   ]
  },
  {
   "cell_type": "code",
   "execution_count": 32,
   "metadata": {
    "id": "yAiYe6vj8XSW"
   },
   "outputs": [
    {
     "name": "stdout",
     "output_type": "stream",
     "text": [
      "Original Horizantel:\n",
      "[[ 8  1  4  3  9  2]\n",
      " [ 7  1  1  3 10  4]\n",
      " [ 5  6  7  7  3  6]]\n",
      "Original Vertical):\n",
      "[[ 3  9  2]\n",
      " [ 3 10  4]\n",
      " [ 7  3  6]]\n"
     ]
    }
   ],
   "source": [
    "Original_Array1 = np.hsplit(Concatented_Horizontally,1)\n",
    "\n",
    "Original_Array2 = np.vsplit(Concatented_Vertically,2)\n",
    "\n",
    "print(\"Original Horizantel:\")\n",
    "print(Original_Array1[0])\n",
    "print(\"Original Vertical):\")\n",
    "print(Original_Array2[1])"
   ]
  },
  {
   "cell_type": "markdown",
   "metadata": {
    "id": "2CliNLH8YG3j"
   },
   "source": [
    "# **Bonus Question**\n",
    "\n",
    "Find mode of this array  = [1,2,1,2,3,4,5,6,8,9,1,2,2,22,21,1,1,1,1,2,5]\n",
    "\n",
    "Hint: Use count and also loop"
   ]
  },
  {
   "cell_type": "code",
   "execution_count": 216,
   "metadata": {
    "id": "JGe2Qe3SYaHq"
   },
   "outputs": [
    {
     "name": "stdout",
     "output_type": "stream",
     "text": [
      "The mode is: 1\n",
      "The Number apperance: 7\n"
     ]
    }
   ],
   "source": [
    "array=[1,2,1,2,3,4,5,6,8,9,1,2,2,22,21,1,1,1,1,2,5]\n",
    "counter = 0\n",
    "num = array[:]\n",
    "for i in array:\n",
    "    mode = array.count(i)\n",
    "    if(mode> counter):\n",
    "        counter = mode\n",
    "        num=i\n",
    "\n",
    "print(\"The mode is:\",num)\n",
    "print(\"The Number apperance:\",counter)\n",
    "    "
   ]
  },
  {
   "cell_type": "markdown",
   "metadata": {
    "id": "1t9n5GQdYbHN"
   },
   "source": [
    "# **Notes**\n",
    "\n",
    "\n",
    "1.   All the Questions carry Equal Points (2 points)\n",
    "\n",
    "2.   Bonus Question carry 5 points\n",
    "\n",
    "3.   Review lecture for any query\n",
    "\n",
    "Good Luck!\n",
    "\n"
   ]
  },
  {
   "cell_type": "code",
   "execution_count": null,
   "metadata": {
    "id": "yxT9-gJfYugV"
   },
   "outputs": [],
   "source": []
  },
  {
   "cell_type": "code",
   "execution_count": null,
   "metadata": {},
   "outputs": [],
   "source": []
  }
 ],
 "metadata": {
  "colab": {
   "provenance": []
  },
  "kernelspec": {
   "display_name": "Python 3 (ipykernel)",
   "language": "python",
   "name": "python3"
  },
  "language_info": {
   "codemirror_mode": {
    "name": "ipython",
    "version": 3
   },
   "file_extension": ".py",
   "mimetype": "text/x-python",
   "name": "python",
   "nbconvert_exporter": "python",
   "pygments_lexer": "ipython3",
   "version": "3.11.7"
  }
 },
 "nbformat": 4,
 "nbformat_minor": 4
}
