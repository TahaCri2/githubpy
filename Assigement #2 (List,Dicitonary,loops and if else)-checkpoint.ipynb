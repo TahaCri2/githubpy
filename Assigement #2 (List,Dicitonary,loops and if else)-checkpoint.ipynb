{
 "cells": [
  {
   "cell_type": "markdown",
   "id": "ab8eefb4",
   "metadata": {},
   "source": [
    "Scenario # 01"
   ]
  },
  {
   "cell_type": "code",
   "execution_count": 1,
   "id": "109007a7",
   "metadata": {},
   "outputs": [
    {
     "name": "stdout",
     "output_type": "stream",
     "text": [
      "are you update anything in list\n",
      "Yes/No:Yes\n"
     ]
    }
   ],
   "source": [
    "Total_numbers=6\n",
    "\n",
    "gorcery_shopping_lists=['flour', 'sugar', 'rice', 'coffee']\n",
    "\n",
    "for Total_numbers in range(1,7,6):\n",
    "    \n",
    "    print(f'are you update anything in list') \n",
    "    (input('Yes/No:'))"
   ]
  },
  {
   "cell_type": "code",
   "execution_count": 2,
   "id": "2a3857d0",
   "metadata": {},
   "outputs": [
    {
     "name": "stdout",
     "output_type": "stream",
     "text": [
      "your list is update['flour', 'sugar', 'rice', 'coffee', 'tea', 'black tea', 'peanuts']\n",
      "your list is larger you remove any thing\n"
     ]
    }
   ],
   "source": [
    "for update in range (1,7,6) : \n",
    "    \n",
    "    gorcery_shopping_lists=gorcery_shopping_lists+['tea','black tea','peanuts']\n",
    "    \n",
    "    print(f'your list is update{gorcery_shopping_lists}')\n",
    "    \n",
    "    print('your list is larger you remove any thing')"
   ]
  },
  {
   "cell_type": "code",
   "execution_count": 3,
   "id": "45616091",
   "metadata": {},
   "outputs": [
    {
     "name": "stdout",
     "output_type": "stream",
     "text": [
      "one item is remove from list\n",
      "final list is ['flour', 'sugar', 'rice', 'coffee', 'black tea', 'peanuts']\n"
     ]
    }
   ],
   "source": [
    "for remove in range (1,7,6):\n",
    "    gorcery_shopping_lists.remove('tea')\n",
    "    \n",
    "    print('one item is remove from list')\n",
    "    \n",
    "    print(f'final list is {gorcery_shopping_lists}')"
   ]
  },
  {
   "cell_type": "markdown",
   "id": "39bf8497",
   "metadata": {},
   "source": [
    "Scenario  # 02"
   ]
  },
  {
   "cell_type": "code",
   "execution_count": 61,
   "id": "80e28a01",
   "metadata": {},
   "outputs": [
    {
     "data": {
      "text/plain": [
       "{'Bilal': {'Physics': 67,\n",
       "  'Chemistry': 39,\n",
       "  'Math': 47,\n",
       "  'Computer': 58,\n",
       "  'English': 60},\n",
       " 'Ali': {'Physics': 55,\n",
       "  'Chemistry': 73,\n",
       "  'Math': 35,\n",
       "  'Computer': 33,\n",
       "  'English': 30},\n",
       " 'Taha': {'Physics': 50,\n",
       "  'Chemistry': 27,\n",
       "  'Math': 74,\n",
       "  'Computer': 75,\n",
       "  'English': 66},\n",
       " 'Ahmed': {'Physics': 69,\n",
       "  'Chemistry': 51,\n",
       "  'Math': 48,\n",
       "  'Computer': 22,\n",
       "  'English': 70},\n",
       " 'Haris': {'Physics': 68,\n",
       "  'Chemistry': 49,\n",
       "  'Math': 40,\n",
       "  'Computer': 71,\n",
       "  'English': 75}}"
      ]
     },
     "execution_count": 61,
     "metadata": {},
     "output_type": "execute_result"
    }
   ],
   "source": [
    "college_student_subject_marks={\n",
    "                               'Bilal':{'Physics':67,'Chemistry':39,'Math':47,'Computer':58,'English':60},\n",
    "                               \n",
    "                              'Ali':{'Physics':55,'Chemistry':73,'Math':35,'Computer':33,'English':30},\n",
    "                               \n",
    "                              'Taha':{'Physics':50,'Chemistry':27,'Math':74,'Computer':75,'English':66},\n",
    "                               \n",
    "                               'Ahmed':{'Physics':69,'Chemistry':51,'Math':48,'Computer':22,'English':70},\n",
    "                                \n",
    "                               'Haris':{'Physics':68,'Chemistry':49,'Math':40,'Computer':71,'English':75}\n",
    "                                             }\n",
    "                                         \n",
    "college_student_subject_marks\n",
    "\n"
   ]
  },
  {
   "cell_type": "code",
   "execution_count": 62,
   "id": "b070cb3f",
   "metadata": {},
   "outputs": [
    {
     "data": {
      "text/plain": [
       "500"
      ]
     },
     "execution_count": 62,
     "metadata": {},
     "output_type": "execute_result"
    }
   ],
   "source": [
    "total_marks=500\n",
    "total_marks"
   ]
  },
  {
   "cell_type": "code",
   "execution_count": 173,
   "id": "cbfce7dc",
   "metadata": {},
   "outputs": [],
   "source": [
    "total_student_marks={}\n",
    "for key,value in college_student_subject_marks.items():\n",
    "    total_student_marks[key]=sum(value.values())"
   ]
  },
  {
   "cell_type": "code",
   "execution_count": 235,
   "id": "93e053fc",
   "metadata": {},
   "outputs": [
    {
     "name": "stdout",
     "output_type": "stream",
     "text": [
      "Bilal percentage is  54.2 %\n",
      "Ali percentage is  45.2 %\n",
      "Taha percentage is  58.4 %\n",
      "Ahmed percentage is  52.0 %\n",
      "Haris percentage is  60.6 %\n"
     ]
    }
   ],
   "source": [
    "for key,value in total_student_marks.items():\n",
    "    print(f'{key} percentage is  {value*100 / total_marks} %')"
   ]
  },
  {
   "cell_type": "markdown",
   "id": "ff1e3bd6",
   "metadata": {},
   "source": [
    "Scenario  # 03"
   ]
  },
  {
   "cell_type": "code",
   "execution_count": 5,
   "id": "9fb313fe",
   "metadata": {},
   "outputs": [
    {
     "data": {
      "text/plain": [
       "['apple', 'banana', 'apple', 'orange', 'banana', 'grape', 'apple']"
      ]
     },
     "execution_count": 5,
     "metadata": {},
     "output_type": "execute_result"
    }
   ],
   "source": [
    "word_list=['apple','banana','apple','orange','banana','grape','apple']\n",
    "word_list"
   ]
  },
  {
   "cell_type": "code",
   "execution_count": 220,
   "id": "e9856c76",
   "metadata": {},
   "outputs": [],
   "source": [
    "word_frequency={}\n",
    "for word in word_list:\n",
    "    if word in word_frequency:\n",
    "        word_frequency[word] +=1\n",
    "    else:\n",
    "        word_frequency[word] =1\n",
    "            \n"
   ]
  },
  {
   "cell_type": "code",
   "execution_count": 221,
   "id": "8ea5cb79",
   "metadata": {},
   "outputs": [
    {
     "data": {
      "text/plain": [
       "{'apple': 3, 'banana': 2, 'orange': 1, 'grape': 1}"
      ]
     },
     "execution_count": 221,
     "metadata": {},
     "output_type": "execute_result"
    }
   ],
   "source": [
    "word_frequency"
   ]
  },
  {
   "cell_type": "raw",
   "id": "a7a3d8b7",
   "metadata": {},
   "source": [
    "Secnario #4"
   ]
  },
  {
   "cell_type": "code",
   "execution_count": 337,
   "id": "efa8de08",
   "metadata": {},
   "outputs": [],
   "source": [
    "def check_the_strenght(password):\n",
    "    if len(password) <=8:\n",
    "        return 'password is too short'\n",
    "        if any (char.isdigit()) ==1:\n",
    "            for char in password:\n",
    "                return 'password contain one digit'\n",
    "        if any (char.isalpha()) ==1:\n",
    "            for char in password:\n",
    "                return 'password contain one letter'"
   ]
  },
  {
   "cell_type": "code",
   "execution_count": 338,
   "id": "ad74b732",
   "metadata": {},
   "outputs": [
    {
     "name": "stdout",
     "output_type": "stream",
     "text": [
      "password is strong\n"
     ]
    }
   ],
   "source": [
    "check_the_strenght(password='Taha@1abc')\n",
    "print('password is strong')"
   ]
  },
  {
   "cell_type": "raw",
   "id": "18e15790",
   "metadata": {},
   "source": [
    "Secnario #5"
   ]
  },
  {
   "cell_type": "code",
   "execution_count": 1,
   "id": "b723ae08",
   "metadata": {},
   "outputs": [
    {
     "name": "stdout",
     "output_type": "stream",
     "text": [
      "Enter the number of voters :5\n",
      "Candidates:\n",
      "1. Candidates A\n",
      "enter the number of correpending vote :1\n",
      "Vote for Candidates A recorded.\n",
      "2. Candidates B\n",
      "enter the number of correpending vote :1\n",
      "Vote for Candidates A recorded.\n",
      "3. Candidates C\n",
      "enter the number of correpending vote :1\n",
      "Vote for Candidates A recorded.\n",
      "Candidates:\n",
      "1. Candidates A\n",
      "enter the number of correpending vote :1\n",
      "Vote for Candidates A recorded.\n",
      "2. Candidates B\n",
      "enter the number of correpending vote :1\n",
      "Vote for Candidates A recorded.\n",
      "3. Candidates C\n",
      "enter the number of correpending vote :1\n",
      "Vote for Candidates A recorded.\n",
      "Candidates:\n",
      "1. Candidates A\n",
      "enter the number of correpending vote :1\n",
      "Vote for Candidates A recorded.\n",
      "2. Candidates B\n",
      "enter the number of correpending vote :1\n",
      "Vote for Candidates A recorded.\n",
      "3. Candidates C\n",
      "enter the number of correpending vote :1\n",
      "Vote for Candidates A recorded.\n",
      "Candidates:\n",
      "1. Candidates A\n",
      "enter the number of correpending vote :1\n",
      "Vote for Candidates A recorded.\n",
      "2. Candidates B\n",
      "enter the number of correpending vote :1\n",
      "Vote for Candidates A recorded.\n",
      "3. Candidates C\n",
      "enter the number of correpending vote :1\n",
      "Vote for Candidates A recorded.\n",
      "Candidates:\n",
      "1. Candidates A\n",
      "enter the number of correpending vote :1\n",
      "Vote for Candidates A recorded.\n",
      "2. Candidates B\n",
      "enter the number of correpending vote :1\n",
      "Vote for Candidates A recorded.\n",
      "3. Candidates C\n",
      "enter the number of correpending vote :1\n",
      "Vote for Candidates A recorded.\n",
      "\n",
      "Voting Results:\n",
      "Candidates A: 15 votes\n",
      "Candidates B: 0 votes\n",
      "Candidates C: 0 votes\n"
     ]
    }
   ],
   "source": [
    "candidates = ['Candidates A','Candidates B','Candidates C']\n",
    "votes = {candidate: 0 for candidate in candidates }\n",
    "\n",
    "num_voters = int(input('Enter the number of voters :'))\n",
    "\n",
    "for _ in range(num_voters):\n",
    "    print('Candidates:')\n",
    "    for i, candidate in enumerate(candidates ,start=1):\n",
    "        print(f'{i}. {candidate}')\n",
    "        \n",
    "        vote=int(input('enter the number of correpending vote :'))\n",
    "        \n",
    "        if 1 <= vote <= len(candidates):\n",
    "            selected_candidate = candidates[vote -1]\n",
    "            votes[selected_candidate] +=1\n",
    "            print(f'Vote for {selected_candidate} recorded.')\n",
    "        else:\n",
    "            print('Invailed vote. Please choose a valid candidate.')\n",
    "\n",
    "print('\\n Voting Results:')\n",
    "for candidate, vote_count in votes.items():\n",
    "    print(f'{candidate}: {vote_count} votes')\n",
    "    \n",
    "            "
   ]
  },
  {
   "cell_type": "code",
   "execution_count": null,
   "id": "326759d4",
   "metadata": {},
   "outputs": [],
   "source": []
  }
 ],
 "metadata": {
  "kernelspec": {
   "display_name": "Python 3 (ipykernel)",
   "language": "python",
   "name": "python3"
  },
  "language_info": {
   "codemirror_mode": {
    "name": "ipython",
    "version": 3
   },
   "file_extension": ".py",
   "mimetype": "text/x-python",
   "name": "python",
   "nbconvert_exporter": "python",
   "pygments_lexer": "ipython3",
   "version": "3.11.5"
  }
 },
 "nbformat": 4,
 "nbformat_minor": 5
}
